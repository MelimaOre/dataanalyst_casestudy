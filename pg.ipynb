{
 "cells": [
  {
   "cell_type": "code",
   "id": "initial_id",
   "metadata": {
    "collapsed": true,
    "ExecuteTime": {
     "end_time": "2025-09-03T08:30:02.452315Z",
     "start_time": "2025-09-03T08:30:02.443381Z"
    }
   },
   "source": [
    "import os\n",
    "for root, dirs, files in os.walk('.devcontainer/data'):\n",
    "    if dirs == [] and files == []:\n",
    "      with open(os.path.join(root,'.gitkeep'), 'w') as f:\n",
    "        pass\n"
   ],
   "outputs": [],
   "execution_count": 11
  }
 ],
 "metadata": {
  "kernelspec": {
   "display_name": "Python 3",
   "language": "python",
   "name": "python3"
  },
  "language_info": {
   "codemirror_mode": {
    "name": "ipython",
    "version": 2
   },
   "file_extension": ".py",
   "mimetype": "text/x-python",
   "name": "python",
   "nbconvert_exporter": "python",
   "pygments_lexer": "ipython2",
   "version": "2.7.6"
  }
 },
 "nbformat": 4,
 "nbformat_minor": 5
}
